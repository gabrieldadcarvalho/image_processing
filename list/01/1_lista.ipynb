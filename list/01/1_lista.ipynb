{
 "cells": [
  {
   "cell_type": "markdown",
   "id": "4ad3775d",
   "metadata": {},
   "source": [
    "<h1 style=\"text-align: center;\">Lista 1 - Processamento de Imagens</h1>\n",
    "\n",
    "*Discente:*\n",
    "\n",
    "- Gabriel D'assumpção de Carvalho"
   ]
  },
  {
   "cell_type": "markdown",
   "id": "758b9c66",
   "metadata": {},
   "source": [
    "1) Defina o que significa um conjunto de funções formar uma base ortonormal no espaço $L²([−π, π])$ e cite um exemplo clássico desse conjunto."
   ]
  },
  {
   "cell_type": "markdown",
   "id": "14ba5928",
   "metadata": {},
   "source": [
    "![alt text](image/1.jpeg)"
   ]
  },
  {
   "cell_type": "markdown",
   "id": "850795fc",
   "metadata": {},
   "source": [
    "2) Explique o que representa o termo $F(0, 0)$ no espectro bidimensional de uma imagem e por que ele é chamado de componente DC."
   ]
  },
  {
   "cell_type": "markdown",
   "id": "1a705d63",
   "metadata": {},
   "source": [
    "![alt text](image/2.jpeg)"
   ]
  },
  {
   "cell_type": "markdown",
   "id": "367932d1",
   "metadata": {},
   "source": [
    "3) Para que serve aplicar o fftshift em espectros de Fourier bidimensionais e o que muda na visualização prática?"
   ]
  },
  {
   "cell_type": "markdown",
   "id": "290340e5",
   "metadata": {},
   "source": [
    "![alt text](image/3.jpeg)"
   ]
  },
  {
   "cell_type": "markdown",
   "id": "0920c133",
   "metadata": {},
   "source": [
    "4) Em uma série de Fourier real, por que sinais pares contêm apenas cossenos e sinais ímpares contêm apenas senos?"
   ]
  },
  {
   "cell_type": "markdown",
   "id": "115a7185",
   "metadata": {},
   "source": [
    "![alt text](image/4_1.jpeg)"
   ]
  },
  {
   "cell_type": "markdown",
   "id": "acc88d0f",
   "metadata": {},
   "source": [
    "![alt text](image/4_2.jpeg)"
   ]
  },
  {
   "cell_type": "markdown",
   "id": "1c5c5315",
   "metadata": {},
   "source": [
    "5) O que significa dizer que a Transformada de Fourier de um sinal escalonado $f(ax, by)$ resulta em $F(w₁/a, w₂/b) / |ab|$? Interprete fisicamente esse resultado."
   ]
  },
  {
   "cell_type": "markdown",
   "id": "952dd6d8",
   "metadata": {},
   "source": [
    "![alt text](image/5.jpeg)"
   ]
  },
  {
   "cell_type": "markdown",
   "id": "167af5a9",
   "metadata": {},
   "source": [
    "6) Considere o sinal unidimensional periódico definido por:\n",
    "\n",
    "$f(x)=cos(x)$ no intervalo $[−π,π]$, e estendido periodicamente.\n",
    "Escreva os primeiros três coeficientes da série de Fourier para esse sinal."
   ]
  },
  {
   "cell_type": "markdown",
   "id": "1e15e411",
   "metadata": {},
   "source": [
    "![alt text](image/6.jpeg)"
   ]
  }
 ],
 "metadata": {
  "language_info": {
   "name": "python"
  }
 },
 "nbformat": 4,
 "nbformat_minor": 5
}
